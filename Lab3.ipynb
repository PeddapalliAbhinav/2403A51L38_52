{
  "nbformat": 4,
  "nbformat_minor": 0,
  "metadata": {
    "colab": {
      "provenance": [],
      "authorship_tag": "ABX9TyM91bzMvb+C9m0uutfUOzRs",
      "include_colab_link": true
    },
    "kernelspec": {
      "name": "python3",
      "display_name": "Python 3"
    },
    "language_info": {
      "name": "python"
    }
  },
  "cells": [
    {
      "cell_type": "markdown",
      "metadata": {
        "id": "view-in-github",
        "colab_type": "text"
      },
      "source": [
        "<a href=\"https://colab.research.google.com/github/PeddapalliAbhinav/2403A51L38_52/blob/main/Lab3.ipynb\" target=\"_parent\"><img src=\"https://colab.research.google.com/assets/colab-badge.svg\" alt=\"Open In Colab\"/></a>"
      ]
    },
    {
      "cell_type": "code",
      "execution_count": 2,
      "metadata": {
        "id": "z3IF_52Nyo_k"
      },
      "outputs": [],
      "source": [
        "import numpy as np"
      ]
    },
    {
      "cell_type": "code",
      "source": [
        "marks = 50 + (100 - 50) * np.random.rand(5, 4)"
      ],
      "metadata": {
        "id": "aCu_zgktyraZ"
      },
      "execution_count": 23,
      "outputs": []
    },
    {
      "cell_type": "code",
      "source": [
        "marks = marks.astype(int)"
      ],
      "metadata": {
        "id": "4rFsdoNJzWqf"
      },
      "execution_count": 25,
      "outputs": []
    },
    {
      "cell_type": "code",
      "source": [
        "print(marks)"
      ],
      "metadata": {
        "colab": {
          "base_uri": "https://localhost:8080/"
        },
        "id": "pw1nQNoC0Zz3",
        "outputId": "a2052b84-7f18-4b04-982c-76e4dbc1af54"
      },
      "execution_count": 26,
      "outputs": [
        {
          "output_type": "stream",
          "name": "stdout",
          "text": [
            "[[95 77 77 65]\n",
            " [89 65 53 78]\n",
            " [96 57 70 62]\n",
            " [60 53 75 71]\n",
            " [83 79 69 71]]\n"
          ]
        }
      ]
    },
    {
      "cell_type": "code",
      "metadata": {
        "colab": {
          "base_uri": "https://localhost:8080/"
        },
        "id": "yXNfS8eF6X7f",
        "outputId": "11cd5a0f-78f3-4412-9189-02f57b06017c"
      },
      "source": [
        "print(\"Average marks per student:\", np.mean(marks, axis=1))\n",
        "print(\"Average marks per subject:\", np.mean(marks, axis=0))\n",
        "print(\"Highest marks in each subject:\", np.max(marks, axis=0))\n",
        "print(\"Lowest marks in each subject:\", np.min(marks, axis=0))"
      ],
      "execution_count": 27,
      "outputs": [
        {
          "output_type": "stream",
          "name": "stdout",
          "text": [
            "Average marks per student: [78.5  71.25 71.25 64.75 75.5 ]\n",
            "Average marks per subject: [84.6 66.2 68.8 69.4]\n",
            "Highest marks in each subject: [96 79 77 78]\n",
            "Lowest marks in each subject: [60 53 53 62]\n"
          ]
        }
      ]
    }
  ]
}