{
  "nbformat": 4,
  "nbformat_minor": 0,
  "metadata": {
    "colab": {
      "provenance": [],
      "authorship_tag": "ABX9TyOkZGmYbFkGkCFLW+RAjHXW",
      "include_colab_link": true
    },
    "kernelspec": {
      "name": "python3",
      "display_name": "Python 3"
    },
    "language_info": {
      "name": "python"
    }
  },
  "cells": [
    {
      "cell_type": "markdown",
      "metadata": {
        "id": "view-in-github",
        "colab_type": "text"
      },
      "source": [
        "<a href=\"https://colab.research.google.com/github/PeddapalliAbhinav/2403A51L38_52/blob/main/lab-1-2.ipynb\" target=\"_parent\"><img src=\"https://colab.research.google.com/assets/colab-badge.svg\" alt=\"Open In Colab\"/></a>"
      ]
    },
    {
      "cell_type": "code",
      "execution_count": 19,
      "metadata": {
        "colab": {
          "base_uri": "https://localhost:8080/"
        },
        "id": "KVWZJ2JXYcGo",
        "outputId": "c8b4061a-1d3f-4a09-ddad-e4339ea8a928"
      },
      "outputs": [
        {
          "output_type": "stream",
          "name": "stdout",
          "text": [
            "Enter a non-negative integer: 5\n",
            "Maximum recursion depth: 1000\n",
            "Recursive Factorial(5) = 120\n",
            "Iterative Factorial(5) = 120\n",
            "Results match: True\n"
          ]
        }
      ],
      "source": [
        "import sys\n",
        "\n",
        "def recursive_factorial(n):\n",
        "    if n == 0 or n == 1:\n",
        "        return 1\n",
        "    else:\n",
        "        return n * recursive_factorial(n-1)\n",
        "\n",
        "def iterative_factorial(n):\n",
        "    result = 1\n",
        "    for i in range(1, n + 1):\n",
        "        result *= i\n",
        "    return result\n",
        "\n",
        "def main():\n",
        "    try:\n",
        "        n = int(input(\"Enter a non-negative integer: \"))\n",
        "        if n < 0:\n",
        "            raise ValueError\n",
        "            return\n",
        "\n",
        "        max_recursion_depth = sys.getrecursionlimit()\n",
        "        print(f\"Maximum recursion depth: {max_recursion_depth}\")\n",
        "        if n > max_recursion_depth - 50:\n",
        "            print(\"Warning: Recursion limit may be exceeded.\")\n",
        "\n",
        "        recursive_result = recursive_factorial(n)\n",
        "        iterative_result = iterative_factorial(n)\n",
        "\n",
        "        print(f\"Recursive Factorial({n}) = {recursive_result}\")\n",
        "        print(f\"Iterative Factorial({n}) = {iterative_result}\")\n",
        "        print(f\"Results match: {recursive_result == iterative_result}\")\n",
        "\n",
        "    except RecursionError:\n",
        "        print(\"Error: Maximum recursion depth exceeded.\")\n",
        "    except ValueError:\n",
        "        print(\"Error: Invalid input.\")\n",
        "\n",
        "if __name__ == \"__main__\":\n",
        "    main()"
      ]
    }
  ]
}