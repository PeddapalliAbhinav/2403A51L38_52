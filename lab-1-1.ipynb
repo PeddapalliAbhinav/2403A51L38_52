{
  "nbformat": 4,
  "nbformat_minor": 0,
  "metadata": {
    "colab": {
      "provenance": [],
      "authorship_tag": "ABX9TyMc4/3GC8tgUd5S9tBrHQK6",
      "include_colab_link": true
    },
    "kernelspec": {
      "name": "python3",
      "display_name": "Python 3"
    },
    "language_info": {
      "name": "python"
    }
  },
  "cells": [
    {
      "cell_type": "markdown",
      "metadata": {
        "id": "view-in-github",
        "colab_type": "text"
      },
      "source": [
        "<a href=\"https://colab.research.google.com/github/PeddapalliAbhinav/2403A51L38_52/blob/main/lab-1-1.ipynb\" target=\"_parent\"><img src=\"https://colab.research.google.com/assets/colab-badge.svg\" alt=\"Open In Colab\"/></a>"
      ]
    },
    {
      "cell_type": "code",
      "execution_count": 6,
      "metadata": {
        "colab": {
          "base_uri": "https://localhost:8080/"
        },
        "id": "KVWZJ2JXYcGo",
        "outputId": "a6ad86d5-bd9e-4304-a743-74be2e2a0925"
      },
      "outputs": [
        {
          "output_type": "stream",
          "name": "stdout",
          "text": [
            "Enter the number of people: 5\n",
            "Enter the number of places: 3\n",
            "60.0\n"
          ]
        }
      ],
      "source": [
        "def fact(n):\n",
        "  if n==0 or n==1:\n",
        "    return 1\n",
        "  else:\n",
        "    return n * fact(n-1)\n",
        "\n",
        "#main\n",
        "n = int(input(\"Enter the number of people: \"))\n",
        "r = int(input(\"Enter the number of places: \"))\n",
        "if n < r:\n",
        "  print(\"Wrong input\")\n",
        "else:\n",
        "  result = fact(n) / fact(n - r)\n",
        "  print(result)"
      ]
    }
  ]
}